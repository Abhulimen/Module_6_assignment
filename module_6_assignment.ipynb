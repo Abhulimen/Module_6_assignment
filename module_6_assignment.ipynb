{
 "cells": [
  {
   "cell_type": "code",
   "execution_count": 1,
   "id": "584aa580",
   "metadata": {},
   "outputs": [],
   "source": [
    "import pandas as pd\n",
    "import numpy as np\n",
    "import matplotlib.pyplot as plt"
   ]
  },
    }
   "source": [
    "# Question 1(multiple histogram on same axis)\n",
    "a = np.random.normal(loc=64, scale=2, size=500)\n",
    "b = np.random.normal(loc=70, scale=2, size=100)\n",
    "plt.hist(a, label='histogram_a', alpha = 0.5, color = 'blue')\n",
    "plt.hist(b, label='histogram_b', alpha = 0.5, color ='red')\n",
    "plt.legend()\n",
    "plt.show()"
   ]
  {
   "cell_type": "code",
   "execution_count": 4,
   "id": "bc94f803",
   "metadata": {},
   "outputs": [
    {
     "data": {
      "text/html": [
       "<div>\n",
       "<style scoped>\n",
       "    .dataframe tbody tr th:only-of-type {\n",
       "        vertical-align: middle;\n",
       "    }\n",
       "\n",
       "    .dataframe tbody tr th {\n",
       "        vertical-align: top;\n",
       "    }\n",
       "\n",
       "    .dataframe thead th {\n",
       "        text-align: right;\n",
       "    }\n",
       "</style>\n",
       "<table border=\"1\" class=\"dataframe\">\n",
       "  <thead>\n",
       "    <tr style=\"text-align: right;\">\n",
       "      <th></th>\n",
       "      <th>age</th>\n",
       "      <th>sex</th>\n",
       "      <th>bmi</th>\n",
       "      <th>children</th>\n",
       "      <th>smoker</th>\n",
       "      <th>region</th>\n",
       "      <th>charges</th>\n",
       "    </tr>\n",
       "  </thead>\n",
       "  <tbody>\n",
       "    <tr>\n",
       "      <th>0</th>\n",
       "      <td>19</td>\n",
       "      <td>female</td>\n",
       "      <td>27.900</td>\n",
       "      <td>0</td>\n",
       "      <td>yes</td>\n",
       "      <td>southwest</td>\n",
       "      <td>16884.92400</td>\n",
       "    </tr>\n",
       "    <tr>\n",
       "      <th>1</th>\n",
       "      <td>18</td>\n",
       "      <td>male</td>\n",
       "      <td>33.770</td>\n",
       "      <td>1</td>\n",
       "      <td>no</td>\n",
       "      <td>southeast</td>\n",
       "      <td>1725.55230</td>\n",
       "    </tr>\n",
       "    <tr>\n",
       "      <th>2</th>\n",
       "      <td>28</td>\n",
       "      <td>male</td>\n",
       "      <td>33.000</td>\n",
       "      <td>3</td>\n",
       "      <td>no</td>\n",
       "      <td>southeast</td>\n",
       "      <td>4449.46200</td>\n",
       "    </tr>\n",
       "    <tr>\n",
       "      <th>3</th>\n",
       "      <td>33</td>\n",
       "      <td>male</td>\n",
       "      <td>22.705</td>\n",
       "      <td>0</td>\n",
       "      <td>no</td>\n",
       "      <td>northwest</td>\n",
       "      <td>21984.47061</td>\n",
       "    </tr>\n",
       "    <tr>\n",
       "      <th>4</th>\n",
       "      <td>32</td>\n",
       "      <td>male</td>\n",
       "      <td>28.880</td>\n",
       "      <td>0</td>\n",
       "      <td>no</td>\n",
       "      <td>northwest</td>\n",
       "      <td>3866.85520</td>\n",
       "    </tr>\n",
       "  </tbody>\n",
       "</table>\n",
       "</div>"
      ],
      "text/plain": [
       "   age     sex     bmi  children smoker     region      charges\n",
       "0   19  female  27.900         0    yes  southwest  16884.92400\n",
       "1   18    male  33.770         1     no  southeast   1725.55230\n",
       "2   28    male  33.000         3     no  southeast   4449.46200\n",
       "3   33    male  22.705         0     no  northwest  21984.47061\n",
       "4   32    male  28.880         0     no  northwest   3866.85520"
      ]
     },
     "execution_count": 4,
     "metadata": {},
     "output_type": "execute_result"
    }
   ],
   "source": [
    "#Question 2\n",
    "data = pd.read_csv('insurance.csv')\n",
    "data.head()"
   ]
  },
  
   ],
   "source": [
    "#Q2 Cotd..\n",
    "df = pd.DataFrame(data)\n",
    "age = df['age'].head(15)\n",
    "children = df['children'].head(15)\n",
    "plt.xlabel('Age(years)')\n",
    "plt.ylabel('Number of children')\n",
    "plt.title('Plot of Age against children')\n",
    "plt.plot(age[:10], children[:10])\n",
    "plt.show()"
   ]
  },
   ],
   "source": [
    "#Question3(subplots creation)\n",
    "#subplot 1\n",
    "sex = df['sex'].head(2)\n",
    "bmi = df['bmi'].head(2)\n",
    "plt.subplot(1,1,1)\n",
    "plt.pie(bmi, labels=sex,autopct='%1.2f%%', startangle=90)\n",
    "plt.legend(loc='best')\n",
    "plt.axis('equal')\n",
    "plt.show()"
   ]
  },
  
    }
   ],
   "source": [
    "#Q3b\n",
    "region = df['region'].head(15)\n",
    "counts = df['children'].head(15)\n",
    "plt.xlabel('Region')\n",
    "plt.ylabel('Counts')\n",
    "plt.title('Bar plot for region')\n",
    "plt.subplot(1,1,1)\n",
    "plt.bar(region[:10], counts[:10], width=0.8)\n",
    "plt.show()"
   ]
  },
  {
  
   ],
   "source": [
    "#Question4 (Another multiple histogram)\n",
    "age = df['age'].head(15)\n",
    "children = df['children'].head(15)\n",
    "plt.title('Plot of Age and children')\n",
    "plt.hist(age, label='Age', width =5.0, alpha = 0.5, color = 'blue')\n",
    "plt.hist(children, label='Children', width=5.0, alpha = 0.5, color ='red')\n",
    "plt.legend()\n",
    "plt.show()"
   ]
  },
 
   ],
   "source": [
    "#Question5(i)\n",
    "x_var = np.random.normal(loc = 40, scale = 1.5, size = 200)\n",
    "y_var = np.random.normal(loc = 50, scale = 1.5, size = 300) \n",
    "z_var = np.random.normal(loc = 60, scale = 2, size = 300)\n",
    "plt.hist(x_var, label='x', width =2.5, alpha = 0.5, color = 'blue')\n",
    "plt.hist(y_var, label='y', width=2.5, alpha = 0.5, color ='red')\n",
    "plt.legend()\n",
    "plt.show()"
   ]
  },
  
   ],
   "source": [
    "#Question5(ii)\n",
    "#1\n",
    "x_var = np.random.normal(loc = 40, scale = 1.5, size = 200)\n",
    "y_var = np.random.normal(loc = 50, scale = 1.5, size = 300) \n",
    "z_var = np.random.normal(loc = 60, scale = 2, size = 300)\n",
    "plt.xlabel('Y varaiable')\n",
    "plt.ylabel('Z variable')\n",
    "plt.title('Plot of Y_var against Z_var')\n",
    "plt.plot(y_var, color='blue', linestyle = 'dashed', lw = 2.5)\n",
    "plt.plot(z_var, color='red', linestyle = 'dotted', lw = 2.5)\n",
    "plt.show()"
   ]
  },
 
   ],
   "source": [
    "#Q5\n",
    "#2\n",
    "x_var = np.random.normal(loc = 40, scale = 1.5, size = 200)\n",
    "y_var = np.random.normal(loc = 50, scale = 1.5, size = 300) \n",
    "z_var = np.random.normal(loc = 60, scale = 2, size = 300)\n",
    "plt.xlabel('X varaiable')\n",
    "plt.title('Histogram of x_variable')\n",
    "plt.hist(x_var, color='blue')\n",
    "plt.show()"
   ]
  },
  
 ],
 "metadata": {
  "kernelspec": {
   "display_name": "Python 3 (ipykernel)",
   "language": "python",
   "name": "python3"
  },
  "language_info": {
   "codemirror_mode": {
    "name": "ipython",
    "version": 3
   },
   "file_extension": ".py",
   "mimetype": "text/x-python",
   "name": "python",
   "nbconvert_exporter": "python",
   "pygments_lexer": "ipython3",
   "version": "3.9.12"
  }
 },
 "nbformat": 4,
 "nbformat_minor": 5
}
